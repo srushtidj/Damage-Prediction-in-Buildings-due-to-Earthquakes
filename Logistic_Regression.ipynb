{
  "nbformat": 4,
  "nbformat_minor": 0,
  "metadata": {
    "colab": {
      "name": "Untitled5.ipynb",
      "provenance": []
    },
    "kernelspec": {
      "name": "python3",
      "display_name": "Python 3"
    },
    "language_info": {
      "name": "python"
    }
  },
  "cells": [
    {
      "cell_type": "markdown",
      "source": [
        "## Predicting damage with Logistic Regression"
      ],
      "metadata": {
        "id": "At_MG_hkuAMl"
      }
    },
    {
      "cell_type": "code",
      "source": [
        "pip install --upgrade category_encoders"
      ],
      "metadata": {
        "id": "LCLcyYlxuOhd",
        "colab": {
          "base_uri": "https://localhost:8080/"
        },
        "outputId": "88226b63-1aa2-4e72-e2f6-f1d910580bea"
      },
      "execution_count": 1,
      "outputs": [
        {
          "output_type": "stream",
          "name": "stdout",
          "text": [
            "Looking in indexes: https://pypi.org/simple, https://us-python.pkg.dev/colab-wheels/public/simple/\n",
            "Collecting category_encoders\n",
            "  Downloading category_encoders-2.5.0-py2.py3-none-any.whl (69 kB)\n",
            "\u001b[K     |████████████████████████████████| 69 kB 3.2 MB/s \n",
            "\u001b[?25hRequirement already satisfied: numpy>=1.14.0 in /usr/local/lib/python3.7/dist-packages (from category_encoders) (1.21.6)\n",
            "Requirement already satisfied: scipy>=1.0.0 in /usr/local/lib/python3.7/dist-packages (from category_encoders) (1.7.3)\n",
            "Requirement already satisfied: scikit-learn>=0.20.0 in /usr/local/lib/python3.7/dist-packages (from category_encoders) (1.0.2)\n",
            "Requirement already satisfied: statsmodels>=0.9.0 in /usr/local/lib/python3.7/dist-packages (from category_encoders) (0.10.2)\n",
            "Requirement already satisfied: patsy>=0.5.1 in /usr/local/lib/python3.7/dist-packages (from category_encoders) (0.5.2)\n",
            "Requirement already satisfied: pandas>=1.0.5 in /usr/local/lib/python3.7/dist-packages (from category_encoders) (1.3.5)\n",
            "Requirement already satisfied: pytz>=2017.3 in /usr/local/lib/python3.7/dist-packages (from pandas>=1.0.5->category_encoders) (2022.1)\n",
            "Requirement already satisfied: python-dateutil>=2.7.3 in /usr/local/lib/python3.7/dist-packages (from pandas>=1.0.5->category_encoders) (2.8.2)\n",
            "Requirement already satisfied: six in /usr/local/lib/python3.7/dist-packages (from patsy>=0.5.1->category_encoders) (1.15.0)\n",
            "Requirement already satisfied: joblib>=0.11 in /usr/local/lib/python3.7/dist-packages (from scikit-learn>=0.20.0->category_encoders) (1.1.0)\n",
            "Requirement already satisfied: threadpoolctl>=2.0.0 in /usr/local/lib/python3.7/dist-packages (from scikit-learn>=0.20.0->category_encoders) (3.1.0)\n",
            "Installing collected packages: category-encoders\n",
            "Successfully installed category-encoders-2.5.0\n"
          ]
        }
      ]
    },
    {
      "cell_type": "code",
      "source": [
        "import sqlite3\n",
        "import warnings\n",
        "\n",
        "import matplotlib.pyplot as plt\n",
        "import numpy as np\n",
        "import pandas as pd\n",
        "import seaborn as sns\n",
        "from category_encoders import OneHotEncoder\n",
        "from sklearn.linear_model import LogisticRegression\n",
        "from sklearn.metrics import accuracy_score\n",
        "from sklearn.model_selection import train_test_split\n",
        "from sklearn.pipeline import Pipeline, make_pipeline\n",
        "from sklearn.utils.validation import check_is_fitted\n",
        "\n",
        "warnings.simplefilter(action=\"ignore\", category=FutureWarning)"
      ],
      "metadata": {
        "colab": {
          "base_uri": "https://localhost:8080/"
        },
        "id": "w9oJrwKnuEiM",
        "outputId": "df4af660-441b-4020-a57c-9e6b8afe457e"
      },
      "execution_count": 2,
      "outputs": [
        {
          "output_type": "stream",
          "name": "stderr",
          "text": [
            "/usr/local/lib/python3.7/dist-packages/statsmodels/tools/_testing.py:19: FutureWarning: pandas.util.testing is deprecated. Use the functions in the public API at pandas.testing instead.\n",
            "  import pandas.util.testing as tm\n"
          ]
        }
      ]
    },
    {
      "cell_type": "code",
      "source": [
        "def wrangle(db_path):\n",
        "    # # Connect to database\n",
        "    # conn = sqlite3.connect(db_path)\n",
        "\n",
        "    # # Construct query\n",
        "    # query = \"\"\"\n",
        "    #     SELECT distinct(i.building_id) AS b_id,\n",
        "    #        s.*,\n",
        "    #        d.damage_grade\n",
        "    #     FROM id_map AS i\n",
        "    #     JOIN building_structure AS s ON i.building_id = s.building_id\n",
        "    #     JOIN building_damage AS d ON i.building_id = d.building_id\n",
        "    #     WHERE district_id = 4\n",
        "    # \"\"\"\n",
        "\n",
        "    df = pd.read_excel(db_path)\n",
        "\n",
        "\n",
        "    # Read query results into DataFrame\n",
        "    # df = pd.read_sql(query, conn, index_col=\"b_id\")\n",
        "    \n",
        "    # Identify leaky columns\n",
        "    drop_cols = [col for col in df.columns if \"post_eq\" in col]\n",
        "    \n",
        "    # Create Binary Target\n",
        "    df[\"damage_grade\"] = df[\"damage_grade\"].str[-1].astype(int)\n",
        "    df[\"severe_damage\"] = (df[\"damage_grade\"] > 3).astype(int)\n",
        "    \n",
        "    # Drop old target\n",
        "    drop_cols.append(\"damage_grade\")\n",
        "    \n",
        "    # Drop multicollinearity columns\n",
        "    drop_cols.append(\"count_floors_pre_eq\")\n",
        "    \n",
        "    # Drop high-cardinality column\n",
        "    drop_cols.append(\"building_id\")\n",
        "    \n",
        "    # Drop columns\n",
        "    df.drop(columns=drop_cols, inplace=True)\n",
        "\n",
        "    \n",
        "    return df"
      ],
      "metadata": {
        "id": "sTQGlMqtw-bV"
      },
      "execution_count": 3,
      "outputs": []
    },
    {
      "cell_type": "code",
      "source": [
        "df = wrangle(\"/content/data_1.xlsx\")\n",
        "df.head()"
      ],
      "metadata": {
        "colab": {
          "base_uri": "https://localhost:8080/",
          "height": 314
        },
        "id": "pgRiQXCbufi8",
        "outputId": "75fa6004-62a7-4786-bb93-e8ca575e791a"
      },
      "execution_count": 4,
      "outputs": [
        {
          "output_type": "execute_result",
          "data": {
            "text/plain": [
              "   Unnamed: 0    b_id  age_building  plinth_area_sq_ft  height_ft_pre_eq  \\\n",
              "0           1  164002            20                560                18   \n",
              "1           2  164081            21                200                12   \n",
              "2           3  164089            18                315                20   \n",
              "3           4  164098            45                290                13   \n",
              "4           5  164103            21                230                13   \n",
              "\n",
              "  land_surface_condition         foundation_type                 roof_type  \\\n",
              "0                   Flat  Mud mortar-Stone/Brick  Bamboo/Timber-Light roof   \n",
              "1                   Flat  Mud mortar-Stone/Brick  Bamboo/Timber-Light roof   \n",
              "2                   Flat  Mud mortar-Stone/Brick  Bamboo/Timber-Light roof   \n",
              "3                   Flat  Mud mortar-Stone/Brick  Bamboo/Timber-Light roof   \n",
              "4                   Flat  Mud mortar-Stone/Brick  Bamboo/Timber-Light roof   \n",
              "\n",
              "  ground_floor_type   other_floor_type      position plan_configuration  \\\n",
              "0               Mud  TImber/Bamboo-Mud  Not attached        Rectangular   \n",
              "1               Mud  TImber/Bamboo-Mud  Not attached        Rectangular   \n",
              "2               Mud  TImber/Bamboo-Mud  Not attached        Rectangular   \n",
              "3               Mud  TImber/Bamboo-Mud  Not attached        Rectangular   \n",
              "4               Mud  TImber/Bamboo-Mud  Not attached        Rectangular   \n",
              "\n",
              "      superstructure  severe_damage  \n",
              "0  Stone, mud mortar              0  \n",
              "1  Stone, mud mortar              0  \n",
              "2  Stone, mud mortar              0  \n",
              "3  Stone, mud mortar              0  \n",
              "4  Stone, mud mortar              0  "
            ],
            "text/html": [
              "\n",
              "  <div id=\"df-cd6a02d5-9e47-4e4d-a8eb-e61fcd7e4d32\">\n",
              "    <div class=\"colab-df-container\">\n",
              "      <div>\n",
              "<style scoped>\n",
              "    .dataframe tbody tr th:only-of-type {\n",
              "        vertical-align: middle;\n",
              "    }\n",
              "\n",
              "    .dataframe tbody tr th {\n",
              "        vertical-align: top;\n",
              "    }\n",
              "\n",
              "    .dataframe thead th {\n",
              "        text-align: right;\n",
              "    }\n",
              "</style>\n",
              "<table border=\"1\" class=\"dataframe\">\n",
              "  <thead>\n",
              "    <tr style=\"text-align: right;\">\n",
              "      <th></th>\n",
              "      <th>Unnamed: 0</th>\n",
              "      <th>b_id</th>\n",
              "      <th>age_building</th>\n",
              "      <th>plinth_area_sq_ft</th>\n",
              "      <th>height_ft_pre_eq</th>\n",
              "      <th>land_surface_condition</th>\n",
              "      <th>foundation_type</th>\n",
              "      <th>roof_type</th>\n",
              "      <th>ground_floor_type</th>\n",
              "      <th>other_floor_type</th>\n",
              "      <th>position</th>\n",
              "      <th>plan_configuration</th>\n",
              "      <th>superstructure</th>\n",
              "      <th>severe_damage</th>\n",
              "    </tr>\n",
              "  </thead>\n",
              "  <tbody>\n",
              "    <tr>\n",
              "      <th>0</th>\n",
              "      <td>1</td>\n",
              "      <td>164002</td>\n",
              "      <td>20</td>\n",
              "      <td>560</td>\n",
              "      <td>18</td>\n",
              "      <td>Flat</td>\n",
              "      <td>Mud mortar-Stone/Brick</td>\n",
              "      <td>Bamboo/Timber-Light roof</td>\n",
              "      <td>Mud</td>\n",
              "      <td>TImber/Bamboo-Mud</td>\n",
              "      <td>Not attached</td>\n",
              "      <td>Rectangular</td>\n",
              "      <td>Stone, mud mortar</td>\n",
              "      <td>0</td>\n",
              "    </tr>\n",
              "    <tr>\n",
              "      <th>1</th>\n",
              "      <td>2</td>\n",
              "      <td>164081</td>\n",
              "      <td>21</td>\n",
              "      <td>200</td>\n",
              "      <td>12</td>\n",
              "      <td>Flat</td>\n",
              "      <td>Mud mortar-Stone/Brick</td>\n",
              "      <td>Bamboo/Timber-Light roof</td>\n",
              "      <td>Mud</td>\n",
              "      <td>TImber/Bamboo-Mud</td>\n",
              "      <td>Not attached</td>\n",
              "      <td>Rectangular</td>\n",
              "      <td>Stone, mud mortar</td>\n",
              "      <td>0</td>\n",
              "    </tr>\n",
              "    <tr>\n",
              "      <th>2</th>\n",
              "      <td>3</td>\n",
              "      <td>164089</td>\n",
              "      <td>18</td>\n",
              "      <td>315</td>\n",
              "      <td>20</td>\n",
              "      <td>Flat</td>\n",
              "      <td>Mud mortar-Stone/Brick</td>\n",
              "      <td>Bamboo/Timber-Light roof</td>\n",
              "      <td>Mud</td>\n",
              "      <td>TImber/Bamboo-Mud</td>\n",
              "      <td>Not attached</td>\n",
              "      <td>Rectangular</td>\n",
              "      <td>Stone, mud mortar</td>\n",
              "      <td>0</td>\n",
              "    </tr>\n",
              "    <tr>\n",
              "      <th>3</th>\n",
              "      <td>4</td>\n",
              "      <td>164098</td>\n",
              "      <td>45</td>\n",
              "      <td>290</td>\n",
              "      <td>13</td>\n",
              "      <td>Flat</td>\n",
              "      <td>Mud mortar-Stone/Brick</td>\n",
              "      <td>Bamboo/Timber-Light roof</td>\n",
              "      <td>Mud</td>\n",
              "      <td>TImber/Bamboo-Mud</td>\n",
              "      <td>Not attached</td>\n",
              "      <td>Rectangular</td>\n",
              "      <td>Stone, mud mortar</td>\n",
              "      <td>0</td>\n",
              "    </tr>\n",
              "    <tr>\n",
              "      <th>4</th>\n",
              "      <td>5</td>\n",
              "      <td>164103</td>\n",
              "      <td>21</td>\n",
              "      <td>230</td>\n",
              "      <td>13</td>\n",
              "      <td>Flat</td>\n",
              "      <td>Mud mortar-Stone/Brick</td>\n",
              "      <td>Bamboo/Timber-Light roof</td>\n",
              "      <td>Mud</td>\n",
              "      <td>TImber/Bamboo-Mud</td>\n",
              "      <td>Not attached</td>\n",
              "      <td>Rectangular</td>\n",
              "      <td>Stone, mud mortar</td>\n",
              "      <td>0</td>\n",
              "    </tr>\n",
              "  </tbody>\n",
              "</table>\n",
              "</div>\n",
              "      <button class=\"colab-df-convert\" onclick=\"convertToInteractive('df-cd6a02d5-9e47-4e4d-a8eb-e61fcd7e4d32')\"\n",
              "              title=\"Convert this dataframe to an interactive table.\"\n",
              "              style=\"display:none;\">\n",
              "        \n",
              "  <svg xmlns=\"http://www.w3.org/2000/svg\" height=\"24px\"viewBox=\"0 0 24 24\"\n",
              "       width=\"24px\">\n",
              "    <path d=\"M0 0h24v24H0V0z\" fill=\"none\"/>\n",
              "    <path d=\"M18.56 5.44l.94 2.06.94-2.06 2.06-.94-2.06-.94-.94-2.06-.94 2.06-2.06.94zm-11 1L8.5 8.5l.94-2.06 2.06-.94-2.06-.94L8.5 2.5l-.94 2.06-2.06.94zm10 10l.94 2.06.94-2.06 2.06-.94-2.06-.94-.94-2.06-.94 2.06-2.06.94z\"/><path d=\"M17.41 7.96l-1.37-1.37c-.4-.4-.92-.59-1.43-.59-.52 0-1.04.2-1.43.59L10.3 9.45l-7.72 7.72c-.78.78-.78 2.05 0 2.83L4 21.41c.39.39.9.59 1.41.59.51 0 1.02-.2 1.41-.59l7.78-7.78 2.81-2.81c.8-.78.8-2.07 0-2.86zM5.41 20L4 18.59l7.72-7.72 1.47 1.35L5.41 20z\"/>\n",
              "  </svg>\n",
              "      </button>\n",
              "      \n",
              "  <style>\n",
              "    .colab-df-container {\n",
              "      display:flex;\n",
              "      flex-wrap:wrap;\n",
              "      gap: 12px;\n",
              "    }\n",
              "\n",
              "    .colab-df-convert {\n",
              "      background-color: #E8F0FE;\n",
              "      border: none;\n",
              "      border-radius: 50%;\n",
              "      cursor: pointer;\n",
              "      display: none;\n",
              "      fill: #1967D2;\n",
              "      height: 32px;\n",
              "      padding: 0 0 0 0;\n",
              "      width: 32px;\n",
              "    }\n",
              "\n",
              "    .colab-df-convert:hover {\n",
              "      background-color: #E2EBFA;\n",
              "      box-shadow: 0px 1px 2px rgba(60, 64, 67, 0.3), 0px 1px 3px 1px rgba(60, 64, 67, 0.15);\n",
              "      fill: #174EA6;\n",
              "    }\n",
              "\n",
              "    [theme=dark] .colab-df-convert {\n",
              "      background-color: #3B4455;\n",
              "      fill: #D2E3FC;\n",
              "    }\n",
              "\n",
              "    [theme=dark] .colab-df-convert:hover {\n",
              "      background-color: #434B5C;\n",
              "      box-shadow: 0px 1px 3px 1px rgba(0, 0, 0, 0.15);\n",
              "      filter: drop-shadow(0px 1px 2px rgba(0, 0, 0, 0.3));\n",
              "      fill: #FFFFFF;\n",
              "    }\n",
              "  </style>\n",
              "\n",
              "      <script>\n",
              "        const buttonEl =\n",
              "          document.querySelector('#df-cd6a02d5-9e47-4e4d-a8eb-e61fcd7e4d32 button.colab-df-convert');\n",
              "        buttonEl.style.display =\n",
              "          google.colab.kernel.accessAllowed ? 'block' : 'none';\n",
              "\n",
              "        async function convertToInteractive(key) {\n",
              "          const element = document.querySelector('#df-cd6a02d5-9e47-4e4d-a8eb-e61fcd7e4d32');\n",
              "          const dataTable =\n",
              "            await google.colab.kernel.invokeFunction('convertToInteractive',\n",
              "                                                     [key], {});\n",
              "          if (!dataTable) return;\n",
              "\n",
              "          const docLinkHtml = 'Like what you see? Visit the ' +\n",
              "            '<a target=\"_blank\" href=https://colab.research.google.com/notebooks/data_table.ipynb>data table notebook</a>'\n",
              "            + ' to learn more about interactive tables.';\n",
              "          element.innerHTML = '';\n",
              "          dataTable['output_type'] = 'display_data';\n",
              "          await google.colab.output.renderOutput(dataTable, element);\n",
              "          const docLink = document.createElement('div');\n",
              "          docLink.innerHTML = docLinkHtml;\n",
              "          element.appendChild(docLink);\n",
              "        }\n",
              "      </script>\n",
              "    </div>\n",
              "  </div>\n",
              "  "
            ]
          },
          "metadata": {},
          "execution_count": 4
        }
      ]
    },
    {
      "cell_type": "code",
      "source": [
        "# drop_cols = []\n",
        "# for col in df.columns:\n",
        "#     if \"post_eq\" in col:\n",
        "#         drop_cols.append(col)\n",
        "\n",
        "# LIST COMPREHENTSION\n",
        "# drop_cols = [col for col in df.columns if \"post_eq\" in col]\n",
        "\n",
        "# drop_cols"
      ],
      "metadata": {
        "id": "Efhl21Rsufl7"
      },
      "execution_count": null,
      "outputs": []
    },
    {
      "cell_type": "code",
      "source": [
        "print(df.info())"
      ],
      "metadata": {
        "id": "14xNpzqTufo9",
        "colab": {
          "base_uri": "https://localhost:8080/"
        },
        "outputId": "c007d54c-b7f1-4385-f81e-a935765677c8"
      },
      "execution_count": 5,
      "outputs": [
        {
          "output_type": "stream",
          "name": "stdout",
          "text": [
            "<class 'pandas.core.frame.DataFrame'>\n",
            "RangeIndex: 70836 entries, 0 to 70835\n",
            "Data columns (total 14 columns):\n",
            " #   Column                  Non-Null Count  Dtype \n",
            "---  ------                  --------------  ----- \n",
            " 0   Unnamed: 0              70836 non-null  int64 \n",
            " 1   b_id                    70836 non-null  int64 \n",
            " 2   age_building            70836 non-null  int64 \n",
            " 3   plinth_area_sq_ft       70836 non-null  int64 \n",
            " 4   height_ft_pre_eq        70836 non-null  int64 \n",
            " 5   land_surface_condition  70836 non-null  object\n",
            " 6   foundation_type         70836 non-null  object\n",
            " 7   roof_type               70836 non-null  object\n",
            " 8   ground_floor_type       70836 non-null  object\n",
            " 9   other_floor_type        70836 non-null  object\n",
            " 10  position                70836 non-null  object\n",
            " 11  plan_configuration      70836 non-null  object\n",
            " 12  superstructure          70836 non-null  object\n",
            " 13  severe_damage           70836 non-null  int64 \n",
            "dtypes: int64(6), object(8)\n",
            "memory usage: 7.6+ MB\n",
            "None\n"
          ]
        }
      ]
    },
    {
      "cell_type": "code",
      "source": [
        "df.drop(columns=\"Unnamed: 0\", inplace=True)\n",
        "# Create correlation matrix\n",
        "correlation = df.select_dtypes(\"number\").drop(columns=\"severe_damage\").corr()\n",
        "\n",
        "# Plot heatmap of `correlation`\n",
        "sns.heatmap(correlation);"
      ],
      "metadata": {
        "id": "9F_wYRhwufuR",
        "colab": {
          "base_uri": "https://localhost:8080/",
          "height": 344
        },
        "outputId": "d2391631-7beb-406d-ff67-33304fdc474b"
      },
      "execution_count": 9,
      "outputs": [
        {
          "output_type": "display_data",
          "data": {
            "text/plain": [
              "<Figure size 432x288 with 2 Axes>"
            ],
            "image/png": "[encoded data removed]"
          },
          "metadata": {
            "needs_background": "light"
          }
        }
      ]
    },
    {
      "cell_type": "code",
      "source": [
        "# Create boxplot\n",
        "sns.boxplot(x=\"severe_damage\", y=\"height_ft_pre_eq\", data=df)\n",
        "# Label axes\n",
        "plt.xlabel(\"Severe Damage\")\n",
        "plt.ylabel('Height Pre-earthquake [ft]')\n",
        "plt.title(\"Distribution of Building Height by Class\");"
      ],
      "metadata": {
        "id": "x7r34RLVufwy",
        "colab": {
          "base_uri": "https://localhost:8080/",
          "height": 295
        },
        "outputId": "52ccd0f2-f6af-4303-d7fb-f6ddfb4b6840"
      },
      "execution_count": 10,
      "outputs": [
        {
          "output_type": "display_data",
          "data": {
            "text/plain": [
              "<Figure size 432x288 with 1 Axes>"
            ],
            "image/png": "[encoded data removed]"
          },
          "metadata": {
            "needs_background": "light"
          }
        }
      ]
    },
    {
      "cell_type": "code",
      "source": [
        "# Plot value counts of `\"severe_damage\"`\n",
        "df[\"severe_damage\"].value_counts(normalize=True).plot(\n",
        "    kind=\"bar\", xlabel=\"Class\", ylabel=\"Relative Frequency\", title=\"Class\"\n",
        ")"
      ],
      "metadata": {
        "colab": {
          "base_uri": "https://localhost:8080/",
          "height": 309
        },
        "id": "Btr42fgX0Y7K",
        "outputId": "65ae5fbb-135f-48ce-d3d9-64eed578fe7d"
      },
      "execution_count": 11,
      "outputs": [
        {
          "output_type": "execute_result",
          "data": {
            "text/plain": [
              "<matplotlib.axes._subplots.AxesSubplot at 0x7fc13fbdce50>"
            ]
          },
          "metadata": {},
          "execution_count": 11
        },
        {
          "output_type": "display_data",
          "data": {
            "text/plain": [
              "<Figure size 432x288 with 1 Axes>"
            ],
            "image/png": "[encoded data removed]"
          },
          "metadata": {
            "needs_background": "light"
          }
        }
      ]
    },
    {
      "cell_type": "code",
      "source": [
        "majority_class_prop, minority_class_prop = df[\"severe_damage\"].value_counts(normalize=True)\n",
        "print(majority_class_prop, minority_class_prop)"
      ],
      "metadata": {
        "colab": {
          "base_uri": "https://localhost:8080/"
        },
        "id": "4pO02ywJ0Y_z",
        "outputId": "30822a33-d57e-485a-cacc-1298c145867d"
      },
      "execution_count": 12,
      "outputs": [
        {
          "output_type": "stream",
          "name": "stdout",
          "text": [
            "0.6425969845841097 0.3574030154158902\n"
          ]
        }
      ]
    },
    {
      "cell_type": "code",
      "source": [
        "# Create pivot table\n",
        "foundation_pivot = pd.pivot_table(\n",
        "    df, index=\"foundation_type\", values=\"severe_damage\", aggfunc=np.mean\n",
        ").sort_values(by=\"severe_damage\")\n",
        "foundation_pivot"
      ],
      "metadata": {
        "colab": {
          "base_uri": "https://localhost:8080/",
          "height": 215
        },
        "id": "CxbYtWvG0ZEV",
        "outputId": "ca44bd21-f569-4695-fb88-fc23518ca556"
      },
      "execution_count": 13,
      "outputs": [
        {
          "output_type": "execute_result",
          "data": {
            "text/plain": [
              "                        severe_damage\n",
              "foundation_type                      \n",
              "RC                           0.026224\n",
              "Bamboo/Timber                0.324074\n",
              "Cement-Stone/Brick           0.421908\n",
              "Mud mortar-Stone/Brick       0.687792\n",
              "Other                        0.818898"
            ],
            "text/html": [
              "\n",
              "  <div id=\"df-27a66e94-1ac3-4401-9b62-74c2168c66f6\">\n",
              "    <div class=\"colab-df-container\">\n",
              "      <div>\n",
              "<style scoped>\n",
              "    .dataframe tbody tr th:only-of-type {\n",
              "        vertical-align: middle;\n",
              "    }\n",
              "\n",
              "    .dataframe tbody tr th {\n",
              "        vertical-align: top;\n",
              "    }\n",
              "\n",
              "    .dataframe thead th {\n",
              "        text-align: right;\n",
              "    }\n",
              "</style>\n",
              "<table border=\"1\" class=\"dataframe\">\n",
              "  <thead>\n",
              "    <tr style=\"text-align: right;\">\n",
              "      <th></th>\n",
              "      <th>severe_damage</th>\n",
              "    </tr>\n",
              "    <tr>\n",
              "      <th>foundation_type</th>\n",
              "      <th></th>\n",
              "    </tr>\n",
              "  </thead>\n",
              "  <tbody>\n",
              "    <tr>\n",
              "      <th>RC</th>\n",
              "      <td>0.026224</td>\n",
              "    </tr>\n",
              "    <tr>\n",
              "      <th>Bamboo/Timber</th>\n",
              "      <td>0.324074</td>\n",
              "    </tr>\n",
              "    <tr>\n",
              "      <th>Cement-Stone/Brick</th>\n",
              "      <td>0.421908</td>\n",
              "    </tr>\n",
              "    <tr>\n",
              "      <th>Mud mortar-Stone/Brick</th>\n",
              "      <td>0.687792</td>\n",
              "    </tr>\n",
              "    <tr>\n",
              "      <th>Other</th>\n",
              "      <td>0.818898</td>\n",
              "    </tr>\n",
              "  </tbody>\n",
              "</table>\n",
              "</div>\n",
              "      <button class=\"colab-df-convert\" onclick=\"convertToInteractive('df-27a66e94-1ac3-4401-9b62-74c2168c66f6')\"\n",
              "              title=\"Convert this dataframe to an interactive table.\"\n",
              "              style=\"display:none;\">\n",
              "        \n",
              "  <svg xmlns=\"http://www.w3.org/2000/svg\" height=\"24px\"viewBox=\"0 0 24 24\"\n",
              "       width=\"24px\">\n",
              "    <path d=\"M0 0h24v24H0V0z\" fill=\"none\"/>\n",
              "    <path d=\"M18.56 5.44l.94 2.06.94-2.06 2.06-.94-2.06-.94-.94-2.06-.94 2.06-2.06.94zm-11 1L8.5 8.5l.94-2.06 2.06-.94-2.06-.94L8.5 2.5l-.94 2.06-2.06.94zm10 10l.94 2.06.94-2.06 2.06-.94-2.06-.94-.94-2.06-.94 2.06-2.06.94z\"/><path d=\"M17.41 7.96l-1.37-1.37c-.4-.4-.92-.59-1.43-.59-.52 0-1.04.2-1.43.59L10.3 9.45l-7.72 7.72c-.78.78-.78 2.05 0 2.83L4 21.41c.39.39.9.59 1.41.59.51 0 1.02-.2 1.41-.59l7.78-7.78 2.81-2.81c.8-.78.8-2.07 0-2.86zM5.41 20L4 18.59l7.72-7.72 1.47 1.35L5.41 20z\"/>\n",
              "  </svg>\n",
              "      </button>\n",
              "      \n",
              "  <style>\n",
              "    .colab-df-container {\n",
              "      display:flex;\n",
              "      flex-wrap:wrap;\n",
              "      gap: 12px;\n",
              "    }\n",
              "\n",
              "    .colab-df-convert {\n",
              "      background-color: #E8F0FE;\n",
              "      border: none;\n",
              "      border-radius: 50%;\n",
              "      cursor: pointer;\n",
              "      display: none;\n",
              "      fill: #1967D2;\n",
              "      height: 32px;\n",
              "      padding: 0 0 0 0;\n",
              "      width: 32px;\n",
              "    }\n",
              "\n",
              "    .colab-df-convert:hover {\n",
              "      background-color: #E2EBFA;\n",
              "      box-shadow: 0px 1px 2px rgba(60, 64, 67, 0.3), 0px 1px 3px 1px rgba(60, 64, 67, 0.15);\n",
              "      fill: #174EA6;\n",
              "    }\n",
              "\n",
              "    [theme=dark] .colab-df-convert {\n",
              "      background-color: #3B4455;\n",
              "      fill: #D2E3FC;\n",
              "    }\n",
              "\n",
              "    [theme=dark] .colab-df-convert:hover {\n",
              "      background-color: #434B5C;\n",
              "      box-shadow: 0px 1px 3px 1px rgba(0, 0, 0, 0.15);\n",
              "      filter: drop-shadow(0px 1px 2px rgba(0, 0, 0, 0.3));\n",
              "      fill: #FFFFFF;\n",
              "    }\n",
              "  </style>\n",
              "\n",
              "      <script>\n",
              "        const buttonEl =\n",
              "          document.querySelector('#df-27a66e94-1ac3-4401-9b62-74c2168c66f6 button.colab-df-convert');\n",
              "        buttonEl.style.display =\n",
              "          google.colab.kernel.accessAllowed ? 'block' : 'none';\n",
              "\n",
              "        async function convertToInteractive(key) {\n",
              "          const element = document.querySelector('#df-27a66e94-1ac3-4401-9b62-74c2168c66f6');\n",
              "          const dataTable =\n",
              "            await google.colab.kernel.invokeFunction('convertToInteractive',\n",
              "                                                     [key], {});\n",
              "          if (!dataTable) return;\n",
              "\n",
              "          const docLinkHtml = 'Like what you see? Visit the ' +\n",
              "            '<a target=\"_blank\" href=https://colab.research.google.com/notebooks/data_table.ipynb>data table notebook</a>'\n",
              "            + ' to learn more about interactive tables.';\n",
              "          element.innerHTML = '';\n",
              "          dataTable['output_type'] = 'display_data';\n",
              "          await google.colab.output.renderOutput(dataTable, element);\n",
              "          const docLink = document.createElement('div');\n",
              "          docLink.innerHTML = docLinkHtml;\n",
              "          element.appendChild(docLink);\n",
              "        }\n",
              "      </script>\n",
              "    </div>\n",
              "  </div>\n",
              "  "
            ]
          },
          "metadata": {},
          "execution_count": 13
        }
      ]
    },
    {
      "cell_type": "code",
      "source": [
        "# Plot bar chart of `foundation_pivot`\n",
        "foundation_pivot.plot(kind=\"barh\", legend=None)\n",
        "plt.axvline(\n",
        "    majority_class_prop, linestyle=\"--\", color=\"red\", label=\"majority class\"\n",
        ")\n",
        "plt.axvline(\n",
        "    minority_class_prop, linestyle=\"--\", color=\"green\", label = \"minority class\"\n",
        ")\n",
        "plt.legend(loc=\"lower right\");"
      ],
      "metadata": {
        "id": "YH-3DhNDufy5",
        "colab": {
          "base_uri": "https://localhost:8080/",
          "height": 265
        },
        "outputId": "4e00dc86-7905-491d-c300-57cd3926b138"
      },
      "execution_count": 14,
      "outputs": [
        {
          "output_type": "display_data",
          "data": {
            "text/plain": [
              "<Figure size 432x288 with 1 Axes>"
            ],
            "image/png": "[encoded data removed]"
          },
          "metadata": {
            "needs_background": "light"
          }
        }
      ]
    },
    {
      "cell_type": "code",
      "source": [
        "# Check for high- and low-cardinality categorical features\n",
        "df.select_dtypes(\"object\").nunique()"
      ],
      "metadata": {
        "id": "tsDN4UEWuJT2",
        "colab": {
          "base_uri": "https://localhost:8080/"
        },
        "outputId": "4ef0eb7d-d706-42b5-d3d5-ce3cf48c36e3"
      },
      "execution_count": 15,
      "outputs": [
        {
          "output_type": "execute_result",
          "data": {
            "text/plain": [
              "land_surface_condition     3\n",
              "foundation_type            5\n",
              "roof_type                  3\n",
              "ground_floor_type          5\n",
              "other_floor_type           4\n",
              "position                   4\n",
              "plan_configuration        10\n",
              "superstructure            11\n",
              "dtype: int64"
            ]
          },
          "metadata": {},
          "execution_count": 15
        }
      ]
    },
    {
      "cell_type": "code",
      "source": [
        "target = \"severe_damage\"\n",
        "X = df.drop(columns=target)\n",
        "y = df[target]"
      ],
      "metadata": {
        "id": "kEeBsX7r0tTJ"
      },
      "execution_count": 16,
      "outputs": []
    },
    {
      "cell_type": "code",
      "source": [
        "X_train, X_test, y_train, y_test = train_test_split(\n",
        "    X, y, test_size=0.2, random_state=42\n",
        ")\n",
        "\n",
        "print(\"X_train shape:\", X_train.shape)\n",
        "print(\"y_train shape:\", y_train.shape)\n",
        "print(\"X_test shape:\", X_test.shape)\n",
        "print(\"y_test shape:\", y_test.shape)"
      ],
      "metadata": {
        "colab": {
          "base_uri": "https://localhost:8080/"
        },
        "id": "EX-JxMow0tWv",
        "outputId": "897d66c6-ecc7-4940-df55-c07e2acd50e8"
      },
      "execution_count": 17,
      "outputs": [
        {
          "output_type": "stream",
          "name": "stdout",
          "text": [
            "X_train shape: (56668, 12)\n",
            "y_train shape: (56668,)\n",
            "X_test shape: (14168, 12)\n",
            "y_test shape: (14168,)\n"
          ]
        }
      ]
    },
    {
      "cell_type": "code",
      "source": [
        "y_train.value_counts(normalize=True).max()"
      ],
      "metadata": {
        "colab": {
          "base_uri": "https://localhost:8080/"
        },
        "id": "xVTRCUd50tZb",
        "outputId": "20eb97bf-91ee-4783-82c5-de24712e9c0d"
      },
      "execution_count": 18,
      "outputs": [
        {
          "output_type": "execute_result",
          "data": {
            "text/plain": [
              "0.6410319757182183"
            ]
          },
          "metadata": {},
          "execution_count": 18
        }
      ]
    },
    {
      "cell_type": "code",
      "source": [
        "acc_baseline = y_train.value_counts(normalize=True).max()\n",
        "print(\"Baseline Accuracy:\", round(acc_baseline, 2))"
      ],
      "metadata": {
        "colab": {
          "base_uri": "https://localhost:8080/"
        },
        "id": "hl6ay8jT05cU",
        "outputId": "161e5433-3aa6-4d88-80af-2e26f9573948"
      },
      "execution_count": 19,
      "outputs": [
        {
          "output_type": "stream",
          "name": "stdout",
          "text": [
            "Baseline Accuracy: 0.64\n"
          ]
        }
      ]
    },
    {
      "cell_type": "code",
      "source": [
        "# Build model\n",
        "model = make_pipeline(\n",
        "    OneHotEncoder(use_cat_names=True),\n",
        "    LogisticRegression(max_iter=1000)\n",
        ")\n",
        "# Fit model to training data\n",
        "model.fit(X_train, y_train)"
      ],
      "metadata": {
        "colab": {
          "base_uri": "https://localhost:8080/"
        },
        "id": "OmKuSN5l05fs",
        "outputId": "e7988d6c-3710-4928-d7df-f0385669b233"
      },
      "execution_count": 20,
      "outputs": [
        {
          "output_type": "execute_result",
          "data": {
            "text/plain": [
              "Pipeline(steps=[('onehotencoder',\n",
              "                 OneHotEncoder(cols=['land_surface_condition',\n",
              "                                     'foundation_type', 'roof_type',\n",
              "                                     'ground_floor_type', 'other_floor_type',\n",
              "                                     'position', 'plan_configuration',\n",
              "                                     'superstructure'],\n",
              "                               use_cat_names=True)),\n",
              "                ('logisticregression', LogisticRegression(max_iter=1000))])"
            ]
          },
          "metadata": {},
          "execution_count": 20
        }
      ]
    },
    {
      "cell_type": "code",
      "source": [
        "acc_train = accuracy_score(y_train, model.predict(X_train))\n",
        "acc_test = model.score(X_test, y_test)\n",
        "\n",
        "print(\"Training Accuracy:\", round(acc_train, 2))\n",
        "print(\"Test Accuracy:\", round(acc_test, 2))"
      ],
      "metadata": {
        "colab": {
          "base_uri": "https://localhost:8080/"
        },
        "id": "iVlD2z4q05is",
        "outputId": "a8ff92e5-dfb1-4d87-c349-45438968ec61"
      },
      "execution_count": 21,
      "outputs": [
        {
          "output_type": "stream",
          "name": "stdout",
          "text": [
            "Training Accuracy: 0.65\n",
            "Test Accuracy: 0.65\n"
          ]
        }
      ]
    },
    {
      "cell_type": "code",
      "source": [
        "model.predict(X_train)[:5]"
      ],
      "metadata": {
        "colab": {
          "base_uri": "https://localhost:8080/"
        },
        "id": "G3LlQM7N0tb4",
        "outputId": "a5b816b8-cb41-4fa6-da3f-122bfffb75fb"
      },
      "execution_count": 22,
      "outputs": [
        {
          "output_type": "execute_result",
          "data": {
            "text/plain": [
              "array([0, 1, 1, 1, 1])"
            ]
          },
          "metadata": {},
          "execution_count": 22
        }
      ]
    },
    {
      "cell_type": "code",
      "source": [
        "y_train_pred_proba = model.predict_proba(X_train)\n",
        "print(y_train_pred_proba[:5])"
      ],
      "metadata": {
        "colab": {
          "base_uri": "https://localhost:8080/"
        },
        "id": "h0CeS_cF1GSn",
        "outputId": "4d9a531f-05f8-4635-b707-85e7b4d0e4c8"
      },
      "execution_count": 23,
      "outputs": [
        {
          "output_type": "stream",
          "name": "stdout",
          "text": [
            "[[0.53432817 0.46567183]\n",
            " [0.37298141 0.62701859]\n",
            " [0.27687253 0.72312747]\n",
            " [0.35455978 0.64544022]\n",
            " [0.33607894 0.66392106]]\n"
          ]
        }
      ]
    },
    {
      "cell_type": "code",
      "source": [
        "features = model.named_steps[\"onehotencoder\"].get_feature_names()\n",
        "importances = model.named_steps[\"logisticregression\"].coef_[0]"
      ],
      "metadata": {
        "id": "-Kvql6-z1GVi"
      },
      "execution_count": 24,
      "outputs": []
    },
    {
      "cell_type": "code",
      "source": [
        "odds_ratios =  pd.Series(np.exp(importances), index=features).sort_values()\n",
        "odds_ratios.head()"
      ],
      "metadata": {
        "colab": {
          "base_uri": "https://localhost:8080/"
        },
        "id": "5K-uv5JC1OSD",
        "outputId": "8f3b92c6-20ed-4318-d5e4-38d7b0430bc3"
      },
      "execution_count": 25,
      "outputs": [
        {
          "output_type": "execute_result",
          "data": {
            "text/plain": [
              "plinth_area_sq_ft       0.999135\n",
              "ground_floor_type_RC    0.999907\n",
              "roof_type_RCC/RB/RBC    0.999925\n",
              "height_ft_pre_eq        0.999928\n",
              "foundation_type_RC      0.999929\n",
              "dtype: float64"
            ]
          },
          "metadata": {},
          "execution_count": 25
        }
      ]
    },
    {
      "cell_type": "code",
      "source": [
        "# Horizontal bar chart, five largest coefficients\n",
        "odds_ratios.tail().plot(kind=\"barh\")\n",
        "plt.xlabel(\"Odds Ratio\");"
      ],
      "metadata": {
        "colab": {
          "base_uri": "https://localhost:8080/",
          "height": 279
        },
        "id": "G_9tBmdE1OVP",
        "outputId": "44717c01-11a5-4e06-92a4-dbe897fb1e09"
      },
      "execution_count": 26,
      "outputs": [
        {
          "output_type": "display_data",
          "data": {
            "text/plain": [
              "<Figure size 432x288 with 1 Axes>"
            ],
            "image/png": "[encoded data removed]"
          },
          "metadata": {
            "needs_background": "light"
          }
        }
      ]
    },
    {
      "cell_type": "code",
      "source": [
        "# Horizontal bar chart, five smallest coefficients\n",
        "odds_ratios.head().plot(kind=\"barh\")\n",
        "plt.xlabel(\"Odds Ratio\");"
      ],
      "metadata": {
        "colab": {
          "base_uri": "https://localhost:8080/",
          "height": 279
        },
        "id": "K4XtORBG0td8",
        "outputId": "d9345ad3-1c5a-4012-a556-23e486ad309d"
      },
      "execution_count": 27,
      "outputs": [
        {
          "output_type": "display_data",
          "data": {
            "text/plain": [
              "<Figure size 432x288 with 1 Axes>"
            ],
            "image/png": "[encoded data removed]"
          },
          "metadata": {
            "needs_background": "light"
          }
        }
      ]
    },
    {
      "cell_type": "code",
      "source": [
        ""
      ],
      "metadata": {
        "id": "q72JWQsS1V31"
      },
      "execution_count": null,
      "outputs": []
    }
  ]
}